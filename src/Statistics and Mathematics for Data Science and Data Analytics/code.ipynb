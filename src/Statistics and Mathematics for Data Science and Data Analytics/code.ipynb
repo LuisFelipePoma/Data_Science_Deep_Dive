{
 "cells": [
  {
   "cell_type": "markdown",
   "metadata": {},
   "source": [
    "# Skewness"
   ]
  },
  {
   "cell_type": "code",
   "execution_count": 7,
   "metadata": {},
   "outputs": [
    {
     "name": "stdout",
     "output_type": "stream",
     "text": [
      "Skewness (tilde(mu)_3): 0.11525560685051774\n"
     ]
    }
   ],
   "source": [
    "import numpy as np\n",
    "\n",
    "# Generate random data\n",
    "data = np.random.normal(0, 1, 1000)\n",
    "\n",
    "# Calculate mean and sample standard deviation\n",
    "mean = np.mean(data)\n",
    "std_dev = np.std(data, ddof=1)  # Sample standard deviation (n-1)\n",
    "\n",
    "# Calculate skewness (tilde(mu)_3)\n",
    "n = len(data)\n",
    "skewness = (np.sum((data - mean)**3) / (n - 1)) / (std_dev**3)\n",
    "\n",
    "print(\"Skewness (tilde(mu)_3):\", skewness)"
   ]
  },
  {
   "cell_type": "code",
   "execution_count": 8,
   "metadata": {},
   "outputs": [
    {
     "name": "stdout",
     "output_type": "stream",
     "text": [
      "Skewness: 0.11531327791084445\n"
     ]
    }
   ],
   "source": [
    "from scipy.stats import skew\n",
    "\n",
    "# Calculate skewness using scipy\n",
    "skewness = skew(data)\n",
    "\n",
    "print(\"Skewness:\", skewness)\n"
   ]
  },
  {
   "cell_type": "markdown",
   "metadata": {},
   "source": [
    "Exercise Skewness"
   ]
  },
  {
   "cell_type": "code",
   "execution_count": 9,
   "metadata": {},
   "outputs": [
    {
     "name": "stdout",
     "output_type": "stream",
     "text": [
      "Mean: 3.0\n",
      "Sample standard deviation: 1.8149704259460602\n",
      "Skewness: 0.7289314836606525\n"
     ]
    }
   ],
   "source": [
    "people = [1, 2, 2, 1, 3, 4, 3, 2, 5, 1, 2, 7, 3, 4, 5, 6, 2, 1]\n",
    "mean = np.mean(people)\n",
    "std_dev = np.std(people, ddof=1)\n",
    "skewness = skew(people)\n",
    "\n",
    "print(\"Mean:\", mean)\n",
    "print(\"Sample standard deviation:\", std_dev)\n",
    "print(\"Skewness:\", skewness)"
   ]
  },
  {
   "cell_type": "code",
   "execution_count": 10,
   "metadata": {},
   "outputs": [
    {
     "data": {
      "text/plain": [
       "(array([4., 5., 3., 2., 2., 1., 1.]),\n",
       " array([1., 2., 3., 4., 5., 6., 7., 8.]),\n",
       " <BarContainer object of 7 artists>)"
      ]
     },
     "execution_count": 10,
     "metadata": {},
     "output_type": "execute_result"
    },
    {
     "data": {
      "image/png": "[encoded data removed]",
      "text/plain": [
       "<Figure size 640x480 with 1 Axes>"
      ]
     },
     "metadata": {},
     "output_type": "display_data"
    }
   ],
   "source": [
    "# plot values\n",
    "import matplotlib.pyplot as plt\n",
    "\n",
    "plt.hist(people, bins=range(1, 9), align='left', rwidth=0.8)"
   ]
  },
  {
   "cell_type": "markdown",
   "metadata": {},
   "source": [
    "This data has positive skewness."
   ]
  }
 ],
 "metadata": {
  "kernelspec": {
   "display_name": "complex",
   "language": "python",
   "name": "python3"
  },
  "language_info": {
   "codemirror_mode": {
    "name": "ipython",
    "version": 3
   },
   "file_extension": ".py",
   "mimetype": "text/x-python",
   "name": "python",
   "nbconvert_exporter": "python",
   "pygments_lexer": "ipython3",
   "version": "3.8.19"
  }
 },
 "nbformat": 4,
 "nbformat_minor": 2
}
